{
 "cells": [
  {
   "cell_type": "markdown",
   "metadata": {},
   "source": [
    "# CONTEXT :\n",
    "The dataset was collected from PACS (Picture archiving and communication system) from different hospitals in Dhaka, Bangladesh where patients were already diagnosed with having a kidney tumor, cyst, normal or stone findings. Both the Coronal and Axial cuts were selected from both contrast and non-contrast studies with protocol for the whole abdomen and urogram. The Dicom study was then carefully selected, one diagnosis at a time, and from those we created a batch of Dicom images of the region of interest for each radiological finding. Following that, we excluded each patient's information and meta data from the Dicom images and converted the Dicom images to a lossless jpg image format. After the conversion, each image finding was again verified by a radiologist and a medical technologist to reconfirm the correctness of the data."
   ]
  },
  {
   "cell_type": "code",
   "execution_count": null,
   "metadata": {
    "_cell_guid": "b1076dfc-b9ad-4769-8c92-a6c4dae69d19",
    "_uuid": "8f2839f25d086af736a60e9eeb907d3b93b6e0e5",
    "collapsed": true,
    "execution": {
     "iopub.execute_input": "2025-01-20T04:12:24.062335Z",
     "iopub.status.busy": "2025-01-20T04:12:24.061972Z",
     "iopub.status.idle": "2025-01-20T04:13:02.255218Z",
     "shell.execute_reply": "2025-01-20T04:13:02.253872Z",
     "shell.execute_reply.started": "2025-01-20T04:12:24.062301Z"
    },
    "jupyter": {
     "outputs_hidden": true
    },
    "trusted": true
   },
   "outputs": [],
   "source": [
    "# This Python 3 environment comes with many helpful analytics libraries installed\n",
    "# It is defined by the kaggle/python Docker image: https://github.com/kaggle/docker-python\n",
    "# For example, here's several helpful packages to load\n",
    "\n",
    "import numpy as np # linear algebra\n",
    "import pandas as pd # data processing, CSV file I/O (e.g. pd.read_csv)\n",
    "\n",
    "# Input data files are available in the read-only \"../input/\" directory\n",
    "# For example, running this (by clicking run or pressing Shift+Enter) will list all files under the input directory\n",
    "\n",
    "import os\n",
    "for dirname, _, filenames in os.walk('/kaggle/input'):\n",
    "    for filename in filenames:\n",
    "        print(os.path.join(dirname, filename))\n",
    "\n",
    "# You can write up to 20GB to the current directory (/kaggle/working/) that gets preserved as output when you create a version using \"Save & Run All\" \n",
    "# You can also write temporary files to /kaggle/temp/, but they won't be saved outside of the current session"
   ]
  },
  {
   "cell_type": "code",
   "execution_count": 2,
   "metadata": {
    "execution": {
     "iopub.execute_input": "2025-01-20T04:13:02.257111Z",
     "iopub.status.busy": "2025-01-20T04:13:02.256547Z",
     "iopub.status.idle": "2025-01-20T04:13:02.262064Z",
     "shell.execute_reply": "2025-01-20T04:13:02.260616Z",
     "shell.execute_reply.started": "2025-01-20T04:13:02.257076Z"
    },
    "trusted": true
   },
   "outputs": [],
   "source": [
    "base_dir = r'/kaggle/input/ct-kidney-dataset-normal-cyst-tumor-and-stone/CT-KIDNEY-DATASET-Normal-Cyst-Tumor-Stone/CT-KIDNEY-DATASET-Normal-Cyst-Tumor-Stone'\n",
    "classes = ['Cyst', 'Tumor', 'Stone', 'Normal']"
   ]
  },
  {
   "cell_type": "code",
   "execution_count": 3,
   "metadata": {
    "execution": {
     "iopub.execute_input": "2025-01-20T04:13:02.265005Z",
     "iopub.status.busy": "2025-01-20T04:13:02.264553Z",
     "iopub.status.idle": "2025-01-20T04:13:02.347439Z",
     "shell.execute_reply": "2025-01-20T04:13:02.346349Z",
     "shell.execute_reply.started": "2025-01-20T04:13:02.264961Z"
    },
    "trusted": true
   },
   "outputs": [
    {
     "data": {
      "text/html": [
       "<div>\n",
       "<style scoped>\n",
       "    .dataframe tbody tr th:only-of-type {\n",
       "        vertical-align: middle;\n",
       "    }\n",
       "\n",
       "    .dataframe tbody tr th {\n",
       "        vertical-align: top;\n",
       "    }\n",
       "\n",
       "    .dataframe thead th {\n",
       "        text-align: right;\n",
       "    }\n",
       "</style>\n",
       "<table border=\"1\" class=\"dataframe\">\n",
       "  <thead>\n",
       "    <tr style=\"text-align: right;\">\n",
       "      <th></th>\n",
       "      <th>file_path</th>\n",
       "      <th>label</th>\n",
       "    </tr>\n",
       "  </thead>\n",
       "  <tbody>\n",
       "    <tr>\n",
       "      <th>0</th>\n",
       "      <td>/kaggle/input/ct-kidney-dataset-normal-cyst-tu...</td>\n",
       "      <td>Cyst</td>\n",
       "    </tr>\n",
       "    <tr>\n",
       "      <th>1</th>\n",
       "      <td>/kaggle/input/ct-kidney-dataset-normal-cyst-tu...</td>\n",
       "      <td>Cyst</td>\n",
       "    </tr>\n",
       "    <tr>\n",
       "      <th>2</th>\n",
       "      <td>/kaggle/input/ct-kidney-dataset-normal-cyst-tu...</td>\n",
       "      <td>Cyst</td>\n",
       "    </tr>\n",
       "    <tr>\n",
       "      <th>3</th>\n",
       "      <td>/kaggle/input/ct-kidney-dataset-normal-cyst-tu...</td>\n",
       "      <td>Cyst</td>\n",
       "    </tr>\n",
       "    <tr>\n",
       "      <th>4</th>\n",
       "      <td>/kaggle/input/ct-kidney-dataset-normal-cyst-tu...</td>\n",
       "      <td>Cyst</td>\n",
       "    </tr>\n",
       "  </tbody>\n",
       "</table>\n",
       "</div>"
      ],
      "text/plain": [
       "                                           file_path label\n",
       "0  /kaggle/input/ct-kidney-dataset-normal-cyst-tu...  Cyst\n",
       "1  /kaggle/input/ct-kidney-dataset-normal-cyst-tu...  Cyst\n",
       "2  /kaggle/input/ct-kidney-dataset-normal-cyst-tu...  Cyst\n",
       "3  /kaggle/input/ct-kidney-dataset-normal-cyst-tu...  Cyst\n",
       "4  /kaggle/input/ct-kidney-dataset-normal-cyst-tu...  Cyst"
      ]
     },
     "execution_count": 3,
     "metadata": {},
     "output_type": "execute_result"
    }
   ],
   "source": [
    "data = []\n",
    "for label in classes:\n",
    "    folder_path = os.path.join(base_dir, label)\n",
    "    for file in os.listdir(folder_path):\n",
    "        if file.endswith(('jpg')):  \n",
    "            file_path = os.path.join(folder_path, file)\n",
    "            data.append((file_path, label))\n",
    "df = pd.DataFrame(data, columns=['file_path', 'label'])\n",
    "df.head()"
   ]
  },
  {
   "cell_type": "code",
   "execution_count": 4,
   "metadata": {
    "execution": {
     "iopub.execute_input": "2025-01-20T04:13:02.349534Z",
     "iopub.status.busy": "2025-01-20T04:13:02.349248Z",
     "iopub.status.idle": "2025-01-20T04:13:02.382854Z",
     "shell.execute_reply": "2025-01-20T04:13:02.381459Z",
     "shell.execute_reply.started": "2025-01-20T04:13:02.349510Z"
    },
    "trusted": true
   },
   "outputs": [
    {
     "name": "stdout",
     "output_type": "stream",
     "text": [
      "<class 'pandas.core.frame.DataFrame'>\n",
      "RangeIndex: 12446 entries, 0 to 12445\n",
      "Data columns (total 2 columns):\n",
      " #   Column     Non-Null Count  Dtype \n",
      "---  ------     --------------  ----- \n",
      " 0   file_path  12446 non-null  object\n",
      " 1   label      12446 non-null  object\n",
      "dtypes: object(2)\n",
      "memory usage: 194.6+ KB\n"
     ]
    }
   ],
   "source": [
    "df.info()"
   ]
  },
  {
   "cell_type": "code",
   "execution_count": 5,
   "metadata": {
    "execution": {
     "iopub.execute_input": "2025-01-20T04:13:02.384486Z",
     "iopub.status.busy": "2025-01-20T04:13:02.384162Z",
     "iopub.status.idle": "2025-01-20T04:13:02.414227Z",
     "shell.execute_reply": "2025-01-20T04:13:02.412857Z",
     "shell.execute_reply.started": "2025-01-20T04:13:02.384456Z"
    },
    "trusted": true
   },
   "outputs": [
    {
     "data": {
      "text/html": [
       "<div>\n",
       "<style scoped>\n",
       "    .dataframe tbody tr th:only-of-type {\n",
       "        vertical-align: middle;\n",
       "    }\n",
       "\n",
       "    .dataframe tbody tr th {\n",
       "        vertical-align: top;\n",
       "    }\n",
       "\n",
       "    .dataframe thead th {\n",
       "        text-align: right;\n",
       "    }\n",
       "</style>\n",
       "<table border=\"1\" class=\"dataframe\">\n",
       "  <thead>\n",
       "    <tr style=\"text-align: right;\">\n",
       "      <th></th>\n",
       "      <th>label</th>\n",
       "      <th>count</th>\n",
       "    </tr>\n",
       "  </thead>\n",
       "  <tbody>\n",
       "    <tr>\n",
       "      <th>0</th>\n",
       "      <td>Normal</td>\n",
       "      <td>5077</td>\n",
       "    </tr>\n",
       "    <tr>\n",
       "      <th>1</th>\n",
       "      <td>Cyst</td>\n",
       "      <td>3709</td>\n",
       "    </tr>\n",
       "    <tr>\n",
       "      <th>2</th>\n",
       "      <td>Tumor</td>\n",
       "      <td>2283</td>\n",
       "    </tr>\n",
       "    <tr>\n",
       "      <th>3</th>\n",
       "      <td>Stone</td>\n",
       "      <td>1377</td>\n",
       "    </tr>\n",
       "  </tbody>\n",
       "</table>\n",
       "</div>"
      ],
      "text/plain": [
       "    label  count\n",
       "0  Normal   5077\n",
       "1    Cyst   3709\n",
       "2   Tumor   2283\n",
       "3   Stone   1377"
      ]
     },
     "execution_count": 5,
     "metadata": {},
     "output_type": "execute_result"
    }
   ],
   "source": [
    "df['label'].value_counts().reset_index()"
   ]
  },
  {
   "cell_type": "code",
   "execution_count": 6,
   "metadata": {
    "execution": {
     "iopub.execute_input": "2025-01-20T04:13:02.416004Z",
     "iopub.status.busy": "2025-01-20T04:13:02.415678Z",
     "iopub.status.idle": "2025-01-20T04:13:03.414117Z",
     "shell.execute_reply": "2025-01-20T04:13:03.412937Z",
     "shell.execute_reply.started": "2025-01-20T04:13:02.415972Z"
    },
    "trusted": true
   },
   "outputs": [],
   "source": [
    "import matplotlib.pyplot as plt\n",
    "import seaborn as sns"
   ]
  },
  {
   "cell_type": "code",
   "execution_count": 7,
   "metadata": {
    "execution": {
     "iopub.execute_input": "2025-01-20T04:13:03.415988Z",
     "iopub.status.busy": "2025-01-20T04:13:03.415355Z",
     "iopub.status.idle": "2025-01-20T04:13:03.708907Z",
     "shell.execute_reply": "2025-01-20T04:13:03.707574Z",
     "shell.execute_reply.started": "2025-01-20T04:13:03.415936Z"
    },
    "trusted": true
   },
   "outputs": [
    {
     "data": {
      "image/png": "[encoded data removed]",
      "text/plain": [
       "<Figure size 600x500 with 1 Axes>"
      ]
     },
     "metadata": {},
     "output_type": "display_data"
    }
   ],
   "source": [
    "value_counts = df['label'].value_counts().reset_index()\n",
    "value_counts.columns = ['label', 'count']\n",
    "plt.figure(figsize=(6,5))\n",
    "ax = sns.barplot(data=value_counts, x='label', y='count')\n",
    "plt.title(\"Class Distribution with Percentages\")\n",
    "plt.xlabel(\"Class\")\n",
    "plt.ylabel(\"Count\")\n",
    "plt.show()"
   ]
  },
  {
   "cell_type": "code",
   "execution_count": 8,
   "metadata": {
    "execution": {
     "iopub.execute_input": "2025-01-20T04:13:03.710583Z",
     "iopub.status.busy": "2025-01-20T04:13:03.710211Z",
     "iopub.status.idle": "2025-01-20T04:13:03.727187Z",
     "shell.execute_reply": "2025-01-20T04:13:03.725550Z",
     "shell.execute_reply.started": "2025-01-20T04:13:03.710537Z"
    },
    "trusted": true
   },
   "outputs": [],
   "source": [
    "df=df.drop(df[df['label']=='Cyst'].head(2000).index)\n",
    "df=df.drop(df[df['label']=='Tumor'].head(300).index)"
   ]
  },
  {
   "cell_type": "code",
   "execution_count": 9,
   "metadata": {
    "execution": {
     "iopub.execute_input": "2025-01-20T04:13:03.731799Z",
     "iopub.status.busy": "2025-01-20T04:13:03.731354Z",
     "iopub.status.idle": "2025-01-20T04:13:03.750094Z",
     "shell.execute_reply": "2025-01-20T04:13:03.748790Z",
     "shell.execute_reply.started": "2025-01-20T04:13:03.731760Z"
    },
    "trusted": true
   },
   "outputs": [
    {
     "data": {
      "text/plain": [
       "target\n",
       "0    5077\n",
       "1    5069\n",
       "Name: count, dtype: int64"
      ]
     },
     "execution_count": 9,
     "metadata": {},
     "output_type": "execute_result"
    }
   ],
   "source": [
    "df['target']=df['label'].apply(lambda x:0 if x=='Normal' else 1)\n",
    "df['target'].value_counts()"
   ]
  },
  {
   "cell_type": "code",
   "execution_count": 10,
   "metadata": {
    "execution": {
     "iopub.execute_input": "2025-01-20T04:13:03.752557Z",
     "iopub.status.busy": "2025-01-20T04:13:03.752238Z",
     "iopub.status.idle": "2025-01-20T04:13:21.997014Z",
     "shell.execute_reply": "2025-01-20T04:13:21.995604Z",
     "shell.execute_reply.started": "2025-01-20T04:13:03.752529Z"
    },
    "trusted": true
   },
   "outputs": [],
   "source": [
    "from sklearn.model_selection import train_test_split\n",
    "from sklearn.metrics import classification_report,confusion_matrix\n",
    "from tensorflow.keras.callbacks import EarlyStopping\n",
    "from tensorflow.keras import regularizers\n",
    "import tensorflow as tf\n",
    "from tensorflow import keras\n",
    "from tensorflow.keras.optimizers import Adam\n",
    "from tensorflow.keras.preprocessing.image import ImageDataGenerator\n",
    "from sklearn.utils.class_weight import compute_class_weight\n",
    "from tensorflow.keras.utils import image_dataset_from_directory\n",
    "from tensorflow.keras import datasets, layers, models\n",
    "from tensorflow.keras.models import Sequential,load_model\n",
    "from tensorflow.keras.layers import Conv2D, MaxPooling2D, Flatten, Dense, Dropout , Input\n",
    "from tensorflow.keras.preprocessing.image import load_img, img_to_array"
   ]
  },
  {
   "cell_type": "markdown",
   "metadata": {},
   "source": [
    "# BINARY CLASS MODEL"
   ]
  },
  {
   "cell_type": "code",
   "execution_count": 11,
   "metadata": {
    "execution": {
     "iopub.execute_input": "2025-01-20T04:13:21.998583Z",
     "iopub.status.busy": "2025-01-20T04:13:21.997972Z",
     "iopub.status.idle": "2025-01-20T04:13:22.015227Z",
     "shell.execute_reply": "2025-01-20T04:13:22.013480Z",
     "shell.execute_reply.started": "2025-01-20T04:13:21.998550Z"
    },
    "trusted": true
   },
   "outputs": [],
   "source": [
    "train, temp_df = train_test_split(df, test_size=0.1, stratify=df['target'], random_state=42)\n",
    "val, temp_df = train_test_split(temp_df, test_size=0.5, stratify=temp_df['target'], random_state=42)"
   ]
  },
  {
   "cell_type": "code",
   "execution_count": 12,
   "metadata": {
    "execution": {
     "iopub.execute_input": "2025-01-20T04:13:22.017393Z",
     "iopub.status.busy": "2025-01-20T04:13:22.016943Z",
     "iopub.status.idle": "2025-01-20T04:13:22.072097Z",
     "shell.execute_reply": "2025-01-20T04:13:22.070494Z",
     "shell.execute_reply.started": "2025-01-20T04:13:22.017343Z"
    },
    "trusted": true
   },
   "outputs": [
    {
     "name": "stdout",
     "output_type": "stream",
     "text": [
      "Validation size: 507\n",
      "Training size: 9131\n"
     ]
    }
   ],
   "source": [
    "print(f\"Validation size: {len(val)}\")\n",
    "print(f\"Training size: {len(train)}\")"
   ]
  },
  {
   "cell_type": "code",
   "execution_count": 13,
   "metadata": {
    "execution": {
     "iopub.execute_input": "2025-01-20T04:13:22.073916Z",
     "iopub.status.busy": "2025-01-20T04:13:22.073472Z",
     "iopub.status.idle": "2025-01-20T04:13:22.099305Z",
     "shell.execute_reply": "2025-01-20T04:13:22.098014Z",
     "shell.execute_reply.started": "2025-01-20T04:13:22.073881Z"
    },
    "trusted": true
   },
   "outputs": [],
   "source": [
    "train['target'] = train['target'].astype(str)\n",
    "val['target'] = val['target'].astype(str)\n",
    "temp_df['target']=temp_df['target'].astype(str)"
   ]
  },
  {
   "cell_type": "code",
   "execution_count": 14,
   "metadata": {
    "execution": {
     "iopub.execute_input": "2025-01-20T04:13:22.100792Z",
     "iopub.status.busy": "2025-01-20T04:13:22.100315Z",
     "iopub.status.idle": "2025-01-20T04:13:29.782559Z",
     "shell.execute_reply": "2025-01-20T04:13:29.781378Z",
     "shell.execute_reply.started": "2025-01-20T04:13:22.100586Z"
    },
    "trusted": true
   },
   "outputs": [
    {
     "name": "stdout",
     "output_type": "stream",
     "text": [
      "Found 9131 validated image filenames belonging to 2 classes.\n",
      "Found 507 validated image filenames belonging to 2 classes.\n",
      "Found 508 validated image filenames belonging to 2 classes.\n"
     ]
    }
   ],
   "source": [
    "datagen = ImageDataGenerator(rescale=1.0/255)\n",
    "training= datagen.flow_from_dataframe(\n",
    "    train,\n",
    "    x_col='file_path',\n",
    "    y_col='target',\n",
    "    target_size=(224, 224),\n",
    "    batch_size=64,\n",
    "    class_mode='binary'\n",
    ")\n",
    "\n",
    "validation = datagen.flow_from_dataframe(\n",
    "    val,\n",
    "    x_col='file_path',\n",
    "    y_col='target',\n",
    "    target_size=(224, 224),\n",
    "    batch_size=64,\n",
    "    class_mode='binary'\n",
    ")\n",
    "\n",
    "test = datagen.flow_from_dataframe(\n",
    "    temp_df,\n",
    "    x_col='file_path',\n",
    "    y_col='target',\n",
    "    target_size=(224, 224),\n",
    "    batch_size=64,\n",
    "    class_mode='binary',\n",
    "    shuffle=False\n",
    ")"
   ]
  },
  {
   "cell_type": "code",
   "execution_count": 15,
   "metadata": {
    "execution": {
     "iopub.execute_input": "2025-01-20T04:13:29.784076Z",
     "iopub.status.busy": "2025-01-20T04:13:29.783699Z",
     "iopub.status.idle": "2025-01-20T04:13:29.945327Z",
     "shell.execute_reply": "2025-01-20T04:13:29.944360Z",
     "shell.execute_reply.started": "2025-01-20T04:13:29.784033Z"
    },
    "trusted": true
   },
   "outputs": [],
   "source": [
    "binary_model = models.Sequential([\n",
    "    layers.Input(shape=(224, 224, 3)),\n",
    "    layers.Conv2D(16, (3, 3), activation='relu' , padding = 'same'), \n",
    "    layers.MaxPooling2D((2, 2)),\n",
    "\n",
    "    layers.Conv2D(32, (3, 3), activation='relu' , padding = 'same'), \n",
    "    layers.MaxPooling2D((2, 2)),\n",
    "\n",
    "    layers.Conv2D(64, (3, 3), activation='relu' , padding = 'same'), \n",
    "    layers.MaxPooling2D((2, 2)),\n",
    "\n",
    "    layers.Conv2D(128, (3, 3), activation='relu' , padding = 'same'), \n",
    "    layers.MaxPooling2D((2, 2)),\n",
    "    \n",
    "    layers.Flatten(),\n",
    "    \n",
    "    layers.Dense(64, activation='relu'),\n",
    "    layers.Dense(32, activation='relu'),\n",
    "    layers.Dense(1, activation='sigmoid')\n",
    "])"
   ]
  },
  {
   "cell_type": "code",
   "execution_count": 16,
   "metadata": {
    "execution": {
     "iopub.execute_input": "2025-01-20T04:13:29.946934Z",
     "iopub.status.busy": "2025-01-20T04:13:29.946504Z",
     "iopub.status.idle": "2025-01-20T04:13:29.977224Z",
     "shell.execute_reply": "2025-01-20T04:13:29.976088Z",
     "shell.execute_reply.started": "2025-01-20T04:13:29.946880Z"
    },
    "trusted": true
   },
   "outputs": [
    {
     "data": {
      "text/html": [
       "<pre style=\"white-space:pre;overflow-x:auto;line-height:normal;font-family:Menlo,'DejaVu Sans Mono',consolas,'Courier New',monospace\"><span style=\"font-weight: bold\">Model: \"sequential\"</span>\n",
       "</pre>\n"
      ],
      "text/plain": [
       "\u001b[1mModel: \"sequential\"\u001b[0m\n"
      ]
     },
     "metadata": {},
     "output_type": "display_data"
    },
    {
     "data": {
      "text/html": [
       "<pre style=\"white-space:pre;overflow-x:auto;line-height:normal;font-family:Menlo,'DejaVu Sans Mono',consolas,'Courier New',monospace\">┏━━━━━━━━━━━━━━━━━━━━━━━━━━━━━━━━━━━━━━┳━━━━━━━━━━━━━━━━━━━━━━━━━━━━━┳━━━━━━━━━━━━━━━━━┓\n",
       "┃<span style=\"font-weight: bold\"> Layer (type)                         </span>┃<span style=\"font-weight: bold\"> Output Shape                </span>┃<span style=\"font-weight: bold\">         Param # </span>┃\n",
       "┡━━━━━━━━━━━━━━━━━━━━━━━━━━━━━━━━━━━━━━╇━━━━━━━━━━━━━━━━━━━━━━━━━━━━━╇━━━━━━━━━━━━━━━━━┩\n",
       "│ conv2d (<span style=\"color: #0087ff; text-decoration-color: #0087ff\">Conv2D</span>)                      │ (<span style=\"color: #00d7ff; text-decoration-color: #00d7ff\">None</span>, <span style=\"color: #00af00; text-decoration-color: #00af00\">224</span>, <span style=\"color: #00af00; text-decoration-color: #00af00\">224</span>, <span style=\"color: #00af00; text-decoration-color: #00af00\">16</span>)        │             <span style=\"color: #00af00; text-decoration-color: #00af00\">448</span> │\n",
       "├──────────────────────────────────────┼─────────────────────────────┼─────────────────┤\n",
       "│ max_pooling2d (<span style=\"color: #0087ff; text-decoration-color: #0087ff\">MaxPooling2D</span>)         │ (<span style=\"color: #00d7ff; text-decoration-color: #00d7ff\">None</span>, <span style=\"color: #00af00; text-decoration-color: #00af00\">112</span>, <span style=\"color: #00af00; text-decoration-color: #00af00\">112</span>, <span style=\"color: #00af00; text-decoration-color: #00af00\">16</span>)        │               <span style=\"color: #00af00; text-decoration-color: #00af00\">0</span> │\n",
       "├──────────────────────────────────────┼─────────────────────────────┼─────────────────┤\n",
       "│ conv2d_1 (<span style=\"color: #0087ff; text-decoration-color: #0087ff\">Conv2D</span>)                    │ (<span style=\"color: #00d7ff; text-decoration-color: #00d7ff\">None</span>, <span style=\"color: #00af00; text-decoration-color: #00af00\">112</span>, <span style=\"color: #00af00; text-decoration-color: #00af00\">112</span>, <span style=\"color: #00af00; text-decoration-color: #00af00\">32</span>)        │           <span style=\"color: #00af00; text-decoration-color: #00af00\">4,640</span> │\n",
       "├──────────────────────────────────────┼─────────────────────────────┼─────────────────┤\n",
       "│ max_pooling2d_1 (<span style=\"color: #0087ff; text-decoration-color: #0087ff\">MaxPooling2D</span>)       │ (<span style=\"color: #00d7ff; text-decoration-color: #00d7ff\">None</span>, <span style=\"color: #00af00; text-decoration-color: #00af00\">56</span>, <span style=\"color: #00af00; text-decoration-color: #00af00\">56</span>, <span style=\"color: #00af00; text-decoration-color: #00af00\">32</span>)          │               <span style=\"color: #00af00; text-decoration-color: #00af00\">0</span> │\n",
       "├──────────────────────────────────────┼─────────────────────────────┼─────────────────┤\n",
       "│ conv2d_2 (<span style=\"color: #0087ff; text-decoration-color: #0087ff\">Conv2D</span>)                    │ (<span style=\"color: #00d7ff; text-decoration-color: #00d7ff\">None</span>, <span style=\"color: #00af00; text-decoration-color: #00af00\">56</span>, <span style=\"color: #00af00; text-decoration-color: #00af00\">56</span>, <span style=\"color: #00af00; text-decoration-color: #00af00\">64</span>)          │          <span style=\"color: #00af00; text-decoration-color: #00af00\">18,496</span> │\n",
       "├──────────────────────────────────────┼─────────────────────────────┼─────────────────┤\n",
       "│ max_pooling2d_2 (<span style=\"color: #0087ff; text-decoration-color: #0087ff\">MaxPooling2D</span>)       │ (<span style=\"color: #00d7ff; text-decoration-color: #00d7ff\">None</span>, <span style=\"color: #00af00; text-decoration-color: #00af00\">28</span>, <span style=\"color: #00af00; text-decoration-color: #00af00\">28</span>, <span style=\"color: #00af00; text-decoration-color: #00af00\">64</span>)          │               <span style=\"color: #00af00; text-decoration-color: #00af00\">0</span> │\n",
       "├──────────────────────────────────────┼─────────────────────────────┼─────────────────┤\n",
       "│ conv2d_3 (<span style=\"color: #0087ff; text-decoration-color: #0087ff\">Conv2D</span>)                    │ (<span style=\"color: #00d7ff; text-decoration-color: #00d7ff\">None</span>, <span style=\"color: #00af00; text-decoration-color: #00af00\">28</span>, <span style=\"color: #00af00; text-decoration-color: #00af00\">28</span>, <span style=\"color: #00af00; text-decoration-color: #00af00\">128</span>)         │          <span style=\"color: #00af00; text-decoration-color: #00af00\">73,856</span> │\n",
       "├──────────────────────────────────────┼─────────────────────────────┼─────────────────┤\n",
       "│ max_pooling2d_3 (<span style=\"color: #0087ff; text-decoration-color: #0087ff\">MaxPooling2D</span>)       │ (<span style=\"color: #00d7ff; text-decoration-color: #00d7ff\">None</span>, <span style=\"color: #00af00; text-decoration-color: #00af00\">14</span>, <span style=\"color: #00af00; text-decoration-color: #00af00\">14</span>, <span style=\"color: #00af00; text-decoration-color: #00af00\">128</span>)         │               <span style=\"color: #00af00; text-decoration-color: #00af00\">0</span> │\n",
       "├──────────────────────────────────────┼─────────────────────────────┼─────────────────┤\n",
       "│ flatten (<span style=\"color: #0087ff; text-decoration-color: #0087ff\">Flatten</span>)                    │ (<span style=\"color: #00d7ff; text-decoration-color: #00d7ff\">None</span>, <span style=\"color: #00af00; text-decoration-color: #00af00\">25088</span>)               │               <span style=\"color: #00af00; text-decoration-color: #00af00\">0</span> │\n",
       "├──────────────────────────────────────┼─────────────────────────────┼─────────────────┤\n",
       "│ dense (<span style=\"color: #0087ff; text-decoration-color: #0087ff\">Dense</span>)                        │ (<span style=\"color: #00d7ff; text-decoration-color: #00d7ff\">None</span>, <span style=\"color: #00af00; text-decoration-color: #00af00\">64</span>)                  │       <span style=\"color: #00af00; text-decoration-color: #00af00\">1,605,696</span> │\n",
       "├──────────────────────────────────────┼─────────────────────────────┼─────────────────┤\n",
       "│ dense_1 (<span style=\"color: #0087ff; text-decoration-color: #0087ff\">Dense</span>)                      │ (<span style=\"color: #00d7ff; text-decoration-color: #00d7ff\">None</span>, <span style=\"color: #00af00; text-decoration-color: #00af00\">32</span>)                  │           <span style=\"color: #00af00; text-decoration-color: #00af00\">2,080</span> │\n",
       "├──────────────────────────────────────┼─────────────────────────────┼─────────────────┤\n",
       "│ dense_2 (<span style=\"color: #0087ff; text-decoration-color: #0087ff\">Dense</span>)                      │ (<span style=\"color: #00d7ff; text-decoration-color: #00d7ff\">None</span>, <span style=\"color: #00af00; text-decoration-color: #00af00\">1</span>)                   │              <span style=\"color: #00af00; text-decoration-color: #00af00\">33</span> │\n",
       "└──────────────────────────────────────┴─────────────────────────────┴─────────────────┘\n",
       "</pre>\n"
      ],
      "text/plain": [
       "┏━━━━━━━━━━━━━━━━━━━━━━━━━━━━━━━━━━━━━━┳━━━━━━━━━━━━━━━━━━━━━━━━━━━━━┳━━━━━━━━━━━━━━━━━┓\n",
       "┃\u001b[1m \u001b[0m\u001b[1mLayer (type)                        \u001b[0m\u001b[1m \u001b[0m┃\u001b[1m \u001b[0m\u001b[1mOutput Shape               \u001b[0m\u001b[1m \u001b[0m┃\u001b[1m \u001b[0m\u001b[1m        Param #\u001b[0m\u001b[1m \u001b[0m┃\n",
       "┡━━━━━━━━━━━━━━━━━━━━━━━━━━━━━━━━━━━━━━╇━━━━━━━━━━━━━━━━━━━━━━━━━━━━━╇━━━━━━━━━━━━━━━━━┩\n",
       "│ conv2d (\u001b[38;5;33mConv2D\u001b[0m)                      │ (\u001b[38;5;45mNone\u001b[0m, \u001b[38;5;34m224\u001b[0m, \u001b[38;5;34m224\u001b[0m, \u001b[38;5;34m16\u001b[0m)        │             \u001b[38;5;34m448\u001b[0m │\n",
       "├──────────────────────────────────────┼─────────────────────────────┼─────────────────┤\n",
       "│ max_pooling2d (\u001b[38;5;33mMaxPooling2D\u001b[0m)         │ (\u001b[38;5;45mNone\u001b[0m, \u001b[38;5;34m112\u001b[0m, \u001b[38;5;34m112\u001b[0m, \u001b[38;5;34m16\u001b[0m)        │               \u001b[38;5;34m0\u001b[0m │\n",
       "├──────────────────────────────────────┼─────────────────────────────┼─────────────────┤\n",
       "│ conv2d_1 (\u001b[38;5;33mConv2D\u001b[0m)                    │ (\u001b[38;5;45mNone\u001b[0m, \u001b[38;5;34m112\u001b[0m, \u001b[38;5;34m112\u001b[0m, \u001b[38;5;34m32\u001b[0m)        │           \u001b[38;5;34m4,640\u001b[0m │\n",
       "├──────────────────────────────────────┼─────────────────────────────┼─────────────────┤\n",
       "│ max_pooling2d_1 (\u001b[38;5;33mMaxPooling2D\u001b[0m)       │ (\u001b[38;5;45mNone\u001b[0m, \u001b[38;5;34m56\u001b[0m, \u001b[38;5;34m56\u001b[0m, \u001b[38;5;34m32\u001b[0m)          │               \u001b[38;5;34m0\u001b[0m │\n",
       "├──────────────────────────────────────┼─────────────────────────────┼─────────────────┤\n",
       "│ conv2d_2 (\u001b[38;5;33mConv2D\u001b[0m)                    │ (\u001b[38;5;45mNone\u001b[0m, \u001b[38;5;34m56\u001b[0m, \u001b[38;5;34m56\u001b[0m, \u001b[38;5;34m64\u001b[0m)          │          \u001b[38;5;34m18,496\u001b[0m │\n",
       "├──────────────────────────────────────┼─────────────────────────────┼─────────────────┤\n",
       "│ max_pooling2d_2 (\u001b[38;5;33mMaxPooling2D\u001b[0m)       │ (\u001b[38;5;45mNone\u001b[0m, \u001b[38;5;34m28\u001b[0m, \u001b[38;5;34m28\u001b[0m, \u001b[38;5;34m64\u001b[0m)          │               \u001b[38;5;34m0\u001b[0m │\n",
       "├──────────────────────────────────────┼─────────────────────────────┼─────────────────┤\n",
       "│ conv2d_3 (\u001b[38;5;33mConv2D\u001b[0m)                    │ (\u001b[38;5;45mNone\u001b[0m, \u001b[38;5;34m28\u001b[0m, \u001b[38;5;34m28\u001b[0m, \u001b[38;5;34m128\u001b[0m)         │          \u001b[38;5;34m73,856\u001b[0m │\n",
       "├──────────────────────────────────────┼─────────────────────────────┼─────────────────┤\n",
       "│ max_pooling2d_3 (\u001b[38;5;33mMaxPooling2D\u001b[0m)       │ (\u001b[38;5;45mNone\u001b[0m, \u001b[38;5;34m14\u001b[0m, \u001b[38;5;34m14\u001b[0m, \u001b[38;5;34m128\u001b[0m)         │               \u001b[38;5;34m0\u001b[0m │\n",
       "├──────────────────────────────────────┼─────────────────────────────┼─────────────────┤\n",
       "│ flatten (\u001b[38;5;33mFlatten\u001b[0m)                    │ (\u001b[38;5;45mNone\u001b[0m, \u001b[38;5;34m25088\u001b[0m)               │               \u001b[38;5;34m0\u001b[0m │\n",
       "├──────────────────────────────────────┼─────────────────────────────┼─────────────────┤\n",
       "│ dense (\u001b[38;5;33mDense\u001b[0m)                        │ (\u001b[38;5;45mNone\u001b[0m, \u001b[38;5;34m64\u001b[0m)                  │       \u001b[38;5;34m1,605,696\u001b[0m │\n",
       "├──────────────────────────────────────┼─────────────────────────────┼─────────────────┤\n",
       "│ dense_1 (\u001b[38;5;33mDense\u001b[0m)                      │ (\u001b[38;5;45mNone\u001b[0m, \u001b[38;5;34m32\u001b[0m)                  │           \u001b[38;5;34m2,080\u001b[0m │\n",
       "├──────────────────────────────────────┼─────────────────────────────┼─────────────────┤\n",
       "│ dense_2 (\u001b[38;5;33mDense\u001b[0m)                      │ (\u001b[38;5;45mNone\u001b[0m, \u001b[38;5;34m1\u001b[0m)                   │              \u001b[38;5;34m33\u001b[0m │\n",
       "└──────────────────────────────────────┴─────────────────────────────┴─────────────────┘\n"
      ]
     },
     "metadata": {},
     "output_type": "display_data"
    },
    {
     "data": {
      "text/html": [
       "<pre style=\"white-space:pre;overflow-x:auto;line-height:normal;font-family:Menlo,'DejaVu Sans Mono',consolas,'Courier New',monospace\"><span style=\"font-weight: bold\"> Total params: </span><span style=\"color: #00af00; text-decoration-color: #00af00\">1,705,249</span> (6.51 MB)\n",
       "</pre>\n"
      ],
      "text/plain": [
       "\u001b[1m Total params: \u001b[0m\u001b[38;5;34m1,705,249\u001b[0m (6.51 MB)\n"
      ]
     },
     "metadata": {},
     "output_type": "display_data"
    },
    {
     "data": {
      "text/html": [
       "<pre style=\"white-space:pre;overflow-x:auto;line-height:normal;font-family:Menlo,'DejaVu Sans Mono',consolas,'Courier New',monospace\"><span style=\"font-weight: bold\"> Trainable params: </span><span style=\"color: #00af00; text-decoration-color: #00af00\">1,705,249</span> (6.51 MB)\n",
       "</pre>\n"
      ],
      "text/plain": [
       "\u001b[1m Trainable params: \u001b[0m\u001b[38;5;34m1,705,249\u001b[0m (6.51 MB)\n"
      ]
     },
     "metadata": {},
     "output_type": "display_data"
    },
    {
     "data": {
      "text/html": [
       "<pre style=\"white-space:pre;overflow-x:auto;line-height:normal;font-family:Menlo,'DejaVu Sans Mono',consolas,'Courier New',monospace\"><span style=\"font-weight: bold\"> Non-trainable params: </span><span style=\"color: #00af00; text-decoration-color: #00af00\">0</span> (0.00 B)\n",
       "</pre>\n"
      ],
      "text/plain": [
       "\u001b[1m Non-trainable params: \u001b[0m\u001b[38;5;34m0\u001b[0m (0.00 B)\n"
      ]
     },
     "metadata": {},
     "output_type": "display_data"
    }
   ],
   "source": [
    "binary_model.summary()"
   ]
  },
  {
   "cell_type": "code",
   "execution_count": 17,
   "metadata": {
    "execution": {
     "iopub.execute_input": "2025-01-20T04:13:29.978697Z",
     "iopub.status.busy": "2025-01-20T04:13:29.978277Z",
     "iopub.status.idle": "2025-01-20T04:13:29.994987Z",
     "shell.execute_reply": "2025-01-20T04:13:29.993774Z",
     "shell.execute_reply.started": "2025-01-20T04:13:29.978626Z"
    },
    "trusted": true
   },
   "outputs": [],
   "source": [
    "binary_model.compile(optimizer=Adam(learning_rate=0.00001),loss='binary_crossentropy',metrics=['accuracy'])"
   ]
  },
  {
   "cell_type": "code",
   "execution_count": 18,
   "metadata": {
    "execution": {
     "iopub.execute_input": "2025-01-20T04:13:29.996559Z",
     "iopub.status.busy": "2025-01-20T04:13:29.996147Z",
     "iopub.status.idle": "2025-01-20T05:12:55.799404Z",
     "shell.execute_reply": "2025-01-20T05:12:55.798092Z",
     "shell.execute_reply.started": "2025-01-20T04:13:29.996522Z"
    },
    "trusted": true
   },
   "outputs": [
    {
     "name": "stdout",
     "output_type": "stream",
     "text": [
      "Epoch 1/10\n"
     ]
    },
    {
     "name": "stderr",
     "output_type": "stream",
     "text": [
      "/usr/local/lib/python3.10/dist-packages/keras/src/trainers/data_adapters/py_dataset_adapter.py:122: UserWarning: Your `PyDataset` class should call `super().__init__(**kwargs)` in its constructor. `**kwargs` can include `workers`, `use_multiprocessing`, `max_queue_size`. Do not pass these arguments to `fit()`, as they will be ignored.\n",
      "  self._warn_if_super_not_called()\n"
     ]
    },
    {
     "name": "stdout",
     "output_type": "stream",
     "text": [
      "\u001b[1m143/143\u001b[0m \u001b[32m━━━━━━━━━━━━━━━━━━━━\u001b[0m\u001b[37m\u001b[0m \u001b[1m359s\u001b[0m 2s/step - accuracy: 0.6102 - loss: 0.6752 - val_accuracy: 0.8087 - val_loss: 0.5879\n",
      "Epoch 2/10\n",
      "\u001b[1m143/143\u001b[0m \u001b[32m━━━━━━━━━━━━━━━━━━━━\u001b[0m\u001b[37m\u001b[0m \u001b[1m342s\u001b[0m 2s/step - accuracy: 0.8271 - loss: 0.5383 - val_accuracy: 0.8383 - val_loss: 0.4358\n",
      "Epoch 3/10\n",
      "\u001b[1m143/143\u001b[0m \u001b[32m━━━━━━━━━━━━━━━━━━━━\u001b[0m\u001b[37m\u001b[0m \u001b[1m346s\u001b[0m 2s/step - accuracy: 0.8614 - loss: 0.3958 - val_accuracy: 0.8600 - val_loss: 0.3563\n",
      "Epoch 4/10\n",
      "\u001b[1m143/143\u001b[0m \u001b[32m━━━━━━━━━━━━━━━━━━━━\u001b[0m\u001b[37m\u001b[0m \u001b[1m341s\u001b[0m 2s/step - accuracy: 0.8883 - loss: 0.3135 - val_accuracy: 0.8955 - val_loss: 0.2860\n",
      "Epoch 5/10\n",
      "\u001b[1m143/143\u001b[0m \u001b[32m━━━━━━━━━━━━━━━━━━━━\u001b[0m\u001b[37m\u001b[0m \u001b[1m338s\u001b[0m 2s/step - accuracy: 0.9197 - loss: 0.2483 - val_accuracy: 0.9250 - val_loss: 0.2327\n",
      "Epoch 6/10\n",
      "\u001b[1m143/143\u001b[0m \u001b[32m━━━━━━━━━━━━━━━━━━━━\u001b[0m\u001b[37m\u001b[0m \u001b[1m383s\u001b[0m 2s/step - accuracy: 0.9345 - loss: 0.1975 - val_accuracy: 0.9389 - val_loss: 0.1892\n",
      "Epoch 7/10\n",
      "\u001b[1m143/143\u001b[0m \u001b[32m━━━━━━━━━━━━━━━━━━━━\u001b[0m\u001b[37m\u001b[0m \u001b[1m343s\u001b[0m 2s/step - accuracy: 0.9535 - loss: 0.1614 - val_accuracy: 0.9546 - val_loss: 0.1532\n",
      "Epoch 8/10\n",
      "\u001b[1m143/143\u001b[0m \u001b[32m━━━━━━━━━━━━━━━━━━━━\u001b[0m\u001b[37m\u001b[0m \u001b[1m340s\u001b[0m 2s/step - accuracy: 0.9619 - loss: 0.1325 - val_accuracy: 0.9566 - val_loss: 0.1270\n",
      "Epoch 9/10\n",
      "\u001b[1m143/143\u001b[0m \u001b[32m━━━━━━━━━━━━━━━━━━━━\u001b[0m\u001b[37m\u001b[0m \u001b[1m388s\u001b[0m 2s/step - accuracy: 0.9688 - loss: 0.1084 - val_accuracy: 0.9665 - val_loss: 0.1038\n",
      "Epoch 10/10\n",
      "\u001b[1m143/143\u001b[0m \u001b[32m━━━━━━━━━━━━━━━━━━━━\u001b[0m\u001b[37m\u001b[0m \u001b[1m384s\u001b[0m 2s/step - accuracy: 0.9795 - loss: 0.0902 - val_accuracy: 0.9724 - val_loss: 0.0929\n"
     ]
    }
   ],
   "source": [
    "early_stopping = EarlyStopping(monitor='val_loss', patience=2, restore_best_weights=True)\n",
    "history = binary_model.fit(\n",
    "    training,\n",
    "    epochs=10,\n",
    "    validation_data=validation,\n",
    "    callbacks=[early_stopping]\n",
    ")"
   ]
  },
  {
   "cell_type": "code",
   "execution_count": 19,
   "metadata": {
    "execution": {
     "iopub.execute_input": "2025-01-20T05:12:55.801408Z",
     "iopub.status.busy": "2025-01-20T05:12:55.800990Z",
     "iopub.status.idle": "2025-01-20T05:12:56.342305Z",
     "shell.execute_reply": "2025-01-20T05:12:56.340724Z",
     "shell.execute_reply.started": "2025-01-20T05:12:55.801363Z"
    },
    "trusted": true
   },
   "outputs": [
    {
     "data": {
      "text/plain": [
       "<matplotlib.legend.Legend at 0x7f2392131b10>"
      ]
     },
     "execution_count": 19,
     "metadata": {},
     "output_type": "execute_result"
    },
    {
     "data": {
      "image/png": "[encoded data removed]",
      "text/plain": [
       "<Figure size 640x480 with 2 Axes>"
      ]
     },
     "metadata": {},
     "output_type": "display_data"
    }
   ],
   "source": [
    "plt.subplot(1,2,1)\n",
    "plt.plot(history.history['accuracy'], color='red',label='Train')\n",
    "plt.plot(history.history['val_accuracy'], color='blue',label='Validation')\n",
    "plt.title(\"Training & Validation Accuracy\")\n",
    "plt.legend()\n",
    "\n",
    "plt.subplot(1,2,2)\n",
    "plt.plot(history.history['loss'], color='red',label='Train')\n",
    "plt.plot(history.history['val_loss'], color='blue',label='Validation')\n",
    "plt.title(\"Training and Validation Loss\")\n",
    "plt.legend()\n"
   ]
  },
  {
   "cell_type": "code",
   "execution_count": 20,
   "metadata": {
    "execution": {
     "iopub.execute_input": "2025-01-20T05:12:56.344404Z",
     "iopub.status.busy": "2025-01-20T05:12:56.343814Z",
     "iopub.status.idle": "2025-01-20T05:13:16.820564Z",
     "shell.execute_reply": "2025-01-20T05:13:16.819591Z",
     "shell.execute_reply.started": "2025-01-20T05:12:56.344363Z"
    },
    "trusted": true
   },
   "outputs": [
    {
     "name": "stdout",
     "output_type": "stream",
     "text": [
      "\u001b[1m8/8\u001b[0m \u001b[32m━━━━━━━━━━━━━━━━━━━━\u001b[0m\u001b[37m\u001b[0m \u001b[1m10s\u001b[0m 1s/step - accuracy: 0.9848 - loss: 0.0798\n",
      "\u001b[1m8/8\u001b[0m \u001b[32m━━━━━━━━━━━━━━━━━━━━\u001b[0m\u001b[37m\u001b[0m \u001b[1m8s\u001b[0m 886ms/step\n",
      "Loss: 0.07766643166542053\n",
      "Accuracy: 0.9842519760131836\n"
     ]
    }
   ],
   "source": [
    "test_loss_binary, test_accuracy_binary = binary_model.evaluate(test)\n",
    "y_pred = binary_model.predict(test)  \n",
    "print(f\"Loss: {test_loss_binary}\")\n",
    "print(f\"Accuracy: {test_accuracy_binary}\")"
   ]
  },
  {
   "cell_type": "code",
   "execution_count": 21,
   "metadata": {
    "execution": {
     "iopub.execute_input": "2025-01-20T05:13:16.821891Z",
     "iopub.status.busy": "2025-01-20T05:13:16.821562Z",
     "iopub.status.idle": "2025-01-20T05:13:16.829102Z",
     "shell.execute_reply": "2025-01-20T05:13:16.827562Z",
     "shell.execute_reply.started": "2025-01-20T05:13:16.821859Z"
    },
    "trusted": true
   },
   "outputs": [],
   "source": [
    "y_true = test.classes\n",
    "y_pred = (y_pred > 0.5).astype(int)\n",
    "results_df = pd.DataFrame({\n",
    "    'True_Label': y_true,\n",
    "    'Predicted_Label': y_pred.flatten()\n",
    "})"
   ]
  },
  {
   "cell_type": "code",
   "execution_count": 22,
   "metadata": {
    "execution": {
     "iopub.execute_input": "2025-01-20T05:13:16.830446Z",
     "iopub.status.busy": "2025-01-20T05:13:16.830107Z",
     "iopub.status.idle": "2025-01-20T05:13:16.855187Z",
     "shell.execute_reply": "2025-01-20T05:13:16.853974Z",
     "shell.execute_reply.started": "2025-01-20T05:13:16.830418Z"
    },
    "trusted": true
   },
   "outputs": [
    {
     "data": {
      "text/html": [
       "<div>\n",
       "<style scoped>\n",
       "    .dataframe tbody tr th:only-of-type {\n",
       "        vertical-align: middle;\n",
       "    }\n",
       "\n",
       "    .dataframe tbody tr th {\n",
       "        vertical-align: top;\n",
       "    }\n",
       "\n",
       "    .dataframe thead th {\n",
       "        text-align: right;\n",
       "    }\n",
       "</style>\n",
       "<table border=\"1\" class=\"dataframe\">\n",
       "  <thead>\n",
       "    <tr style=\"text-align: right;\">\n",
       "      <th></th>\n",
       "      <th>True_Label</th>\n",
       "      <th>Predicted_Label</th>\n",
       "    </tr>\n",
       "  </thead>\n",
       "  <tbody>\n",
       "    <tr>\n",
       "      <th>0</th>\n",
       "      <td>1</td>\n",
       "      <td>1</td>\n",
       "    </tr>\n",
       "    <tr>\n",
       "      <th>1</th>\n",
       "      <td>0</td>\n",
       "      <td>0</td>\n",
       "    </tr>\n",
       "    <tr>\n",
       "      <th>2</th>\n",
       "      <td>0</td>\n",
       "      <td>0</td>\n",
       "    </tr>\n",
       "    <tr>\n",
       "      <th>3</th>\n",
       "      <td>0</td>\n",
       "      <td>0</td>\n",
       "    </tr>\n",
       "    <tr>\n",
       "      <th>4</th>\n",
       "      <td>0</td>\n",
       "      <td>0</td>\n",
       "    </tr>\n",
       "    <tr>\n",
       "      <th>5</th>\n",
       "      <td>0</td>\n",
       "      <td>0</td>\n",
       "    </tr>\n",
       "    <tr>\n",
       "      <th>6</th>\n",
       "      <td>0</td>\n",
       "      <td>0</td>\n",
       "    </tr>\n",
       "    <tr>\n",
       "      <th>7</th>\n",
       "      <td>1</td>\n",
       "      <td>1</td>\n",
       "    </tr>\n",
       "    <tr>\n",
       "      <th>8</th>\n",
       "      <td>0</td>\n",
       "      <td>0</td>\n",
       "    </tr>\n",
       "    <tr>\n",
       "      <th>9</th>\n",
       "      <td>0</td>\n",
       "      <td>0</td>\n",
       "    </tr>\n",
       "  </tbody>\n",
       "</table>\n",
       "</div>"
      ],
      "text/plain": [
       "   True_Label  Predicted_Label\n",
       "0           1                1\n",
       "1           0                0\n",
       "2           0                0\n",
       "3           0                0\n",
       "4           0                0\n",
       "5           0                0\n",
       "6           0                0\n",
       "7           1                1\n",
       "8           0                0\n",
       "9           0                0"
      ]
     },
     "execution_count": 22,
     "metadata": {},
     "output_type": "execute_result"
    }
   ],
   "source": [
    "results_df.head(10)"
   ]
  },
  {
   "cell_type": "code",
   "execution_count": 23,
   "metadata": {
    "execution": {
     "iopub.execute_input": "2025-01-20T05:13:16.856737Z",
     "iopub.status.busy": "2025-01-20T05:13:16.856166Z",
     "iopub.status.idle": "2025-01-20T05:13:16.888329Z",
     "shell.execute_reply": "2025-01-20T05:13:16.887196Z",
     "shell.execute_reply.started": "2025-01-20T05:13:16.856672Z"
    },
    "trusted": true
   },
   "outputs": [
    {
     "name": "stdout",
     "output_type": "stream",
     "text": [
      "              precision    recall  f1-score   support\n",
      "\n",
      "           0       0.99      0.98      0.98       254\n",
      "           1       0.98      0.99      0.98       254\n",
      "\n",
      "    accuracy                           0.98       508\n",
      "   macro avg       0.98      0.98      0.98       508\n",
      "weighted avg       0.98      0.98      0.98       508\n",
      "\n"
     ]
    }
   ],
   "source": [
    "print(classification_report(y_true, y_pred))"
   ]
  },
  {
   "cell_type": "code",
   "execution_count": 24,
   "metadata": {
    "execution": {
     "iopub.execute_input": "2025-01-20T05:13:16.889855Z",
     "iopub.status.busy": "2025-01-20T05:13:16.889424Z",
     "iopub.status.idle": "2025-01-20T05:13:17.120343Z",
     "shell.execute_reply": "2025-01-20T05:13:17.119043Z",
     "shell.execute_reply.started": "2025-01-20T05:13:16.889811Z"
    },
    "trusted": true
   },
   "outputs": [
    {
     "data": {
      "image/png": "[encoded data removed]",
      "text/plain": [
       "<Figure size 640x480 with 2 Axes>"
      ]
     },
     "metadata": {},
     "output_type": "display_data"
    }
   ],
   "source": [
    "cm = confusion_matrix(y_true, y_pred)\n",
    "sns.heatmap(cm, annot=True, fmt='d', xticklabels=['Normal', 'Abnormal'], yticklabels=['Normal', 'Abnormal'])\n",
    "plt.title('Confusion Matrix')\n",
    "plt.xlabel('Predicted')\n",
    "plt.ylabel('True')\n",
    "plt.show()"
   ]
  },
  {
   "cell_type": "markdown",
   "metadata": {},
   "source": [
    "# Multi Class Model with VGG16  "
   ]
  },
  {
   "cell_type": "code",
   "execution_count": 25,
   "metadata": {
    "execution": {
     "iopub.execute_input": "2025-01-20T05:13:17.122208Z",
     "iopub.status.busy": "2025-01-20T05:13:17.121806Z",
     "iopub.status.idle": "2025-01-20T05:13:17.135376Z",
     "shell.execute_reply": "2025-01-20T05:13:17.134265Z",
     "shell.execute_reply.started": "2025-01-20T05:13:17.122161Z"
    },
    "trusted": true
   },
   "outputs": [
    {
     "data": {
      "text/plain": [
       "label\n",
       "Tumor    1983\n",
       "Cyst     1709\n",
       "Stone    1377\n",
       "Name: count, dtype: int64"
      ]
     },
     "execution_count": 25,
     "metadata": {},
     "output_type": "execute_result"
    }
   ],
   "source": [
    "abnormal_df = df[df['label'].isin(['Cyst', 'Stone', 'Tumor'])]\n",
    "abnormal_df['label'].value_counts()\n"
   ]
  },
  {
   "cell_type": "code",
   "execution_count": 26,
   "metadata": {
    "execution": {
     "iopub.execute_input": "2025-01-20T05:13:17.136712Z",
     "iopub.status.busy": "2025-01-20T05:13:17.136382Z",
     "iopub.status.idle": "2025-01-20T05:13:17.155948Z",
     "shell.execute_reply": "2025-01-20T05:13:17.154526Z",
     "shell.execute_reply.started": "2025-01-20T05:13:17.136678Z"
    },
    "trusted": true
   },
   "outputs": [
    {
     "data": {
      "text/plain": [
       "target\n",
       "1    5069\n",
       "Name: count, dtype: int64"
      ]
     },
     "execution_count": 26,
     "metadata": {},
     "output_type": "execute_result"
    }
   ],
   "source": [
    "abnormal_df['target'].value_counts()"
   ]
  },
  {
   "cell_type": "code",
   "execution_count": 27,
   "metadata": {
    "execution": {
     "iopub.execute_input": "2025-01-20T05:13:17.161965Z",
     "iopub.status.busy": "2025-01-20T05:13:17.161549Z",
     "iopub.status.idle": "2025-01-20T05:13:17.193562Z",
     "shell.execute_reply": "2025-01-20T05:13:17.192242Z",
     "shell.execute_reply.started": "2025-01-20T05:13:17.161931Z"
    },
    "trusted": true
   },
   "outputs": [],
   "source": [
    "train_multi, temp_df = train_test_split(abnormal_df, test_size=0.1, stratify=abnormal_df['label'], random_state=42)\n",
    "val_multi, test_multi = train_test_split(temp_df, test_size=0.5, stratify=temp_df['label'], random_state=42)"
   ]
  },
  {
   "cell_type": "code",
   "execution_count": 28,
   "metadata": {
    "execution": {
     "iopub.execute_input": "2025-01-20T05:13:17.196166Z",
     "iopub.status.busy": "2025-01-20T05:13:17.195612Z",
     "iopub.status.idle": "2025-01-20T05:13:19.949018Z",
     "shell.execute_reply": "2025-01-20T05:13:19.947806Z",
     "shell.execute_reply.started": "2025-01-20T05:13:17.196112Z"
    },
    "trusted": true
   },
   "outputs": [
    {
     "name": "stdout",
     "output_type": "stream",
     "text": [
      "Found 4562 validated image filenames belonging to 3 classes.\n",
      "Found 253 validated image filenames belonging to 3 classes.\n",
      "Found 254 validated image filenames belonging to 3 classes.\n"
     ]
    }
   ],
   "source": [
    "multiclass_train = datagen.flow_from_dataframe(\n",
    "    train_multi,\n",
    "    x_col='file_path',\n",
    "    y_col='label',\n",
    "    target_size=(224, 224),\n",
    "    batch_size=64,\n",
    "    class_mode='categorical'\n",
    ")\n",
    "multiclass_val = datagen.flow_from_dataframe(\n",
    "    val_multi,\n",
    "    x_col='file_path',\n",
    "    y_col='label',\n",
    "    target_size=(224, 224),\n",
    "    batch_size=64,\n",
    "    class_mode='categorical'\n",
    ")\n",
    "multiclass_test = datagen.flow_from_dataframe(\n",
    "    test_multi,\n",
    "    x_col='file_path',\n",
    "    y_col='label',\n",
    "    target_size=(224, 224),\n",
    "    batch_size=64,\n",
    "    class_mode='categorical',\n",
    "    shuffle=False\n",
    ")"
   ]
  },
  {
   "cell_type": "code",
   "execution_count": 29,
   "metadata": {
    "execution": {
     "iopub.execute_input": "2025-01-20T05:13:19.950284Z",
     "iopub.status.busy": "2025-01-20T05:13:19.949997Z",
     "iopub.status.idle": "2025-01-20T05:13:20.212281Z",
     "shell.execute_reply": "2025-01-20T05:13:20.211203Z",
     "shell.execute_reply.started": "2025-01-20T05:13:19.950258Z"
    },
    "trusted": true
   },
   "outputs": [],
   "source": [
    "pretrained_model_multi = tf.keras.applications.VGG16(\n",
    "    include_top=False,\n",
    "    input_shape=(224, 224, 3),\n",
    "    weights= None\n",
    ")\n",
    "\n",
    "pretrained_model_multi.trainable = False\n",
    "\n",
    "VGG_model_multi = Sequential([\n",
    "    pretrained_model_multi,                         \n",
    "    Conv2D(64, (3, 3), activation='relu', padding='same'),  \n",
    "    MaxPooling2D((2, 2)),                             \n",
    "    Flatten(),                                         \n",
    "    Dense(64, activation='relu'),                   \n",
    "    Dense(32, activation='relu'),                    \n",
    "    Dense(3, activation='softmax')                  \n",
    "])\n"
   ]
  },
  {
   "cell_type": "code",
   "execution_count": 30,
   "metadata": {
    "execution": {
     "iopub.execute_input": "2025-01-20T05:13:20.213593Z",
     "iopub.status.busy": "2025-01-20T05:13:20.213314Z",
     "iopub.status.idle": "2025-01-20T05:13:20.225167Z",
     "shell.execute_reply": "2025-01-20T05:13:20.223956Z",
     "shell.execute_reply.started": "2025-01-20T05:13:20.213565Z"
    },
    "trusted": true
   },
   "outputs": [],
   "source": [
    "VGG_model_multi.compile(optimizer=Adam(learning_rate=0.001),\n",
    "                         loss='categorical_crossentropy',\n",
    "                         metrics=['accuracy'])"
   ]
  },
  {
   "cell_type": "code",
   "execution_count": 31,
   "metadata": {
    "execution": {
     "iopub.execute_input": "2025-01-20T05:13:20.226589Z",
     "iopub.status.busy": "2025-01-20T05:13:20.226296Z",
     "iopub.status.idle": "2025-01-20T09:20:03.049321Z",
     "shell.execute_reply": "2025-01-20T09:20:03.045334Z",
     "shell.execute_reply.started": "2025-01-20T05:13:20.226564Z"
    },
    "trusted": true
   },
   "outputs": [
    {
     "name": "stdout",
     "output_type": "stream",
     "text": [
      "Epoch 1/10\n"
     ]
    },
    {
     "name": "stderr",
     "output_type": "stream",
     "text": [
      "/usr/local/lib/python3.10/dist-packages/keras/src/trainers/data_adapters/py_dataset_adapter.py:122: UserWarning: Your `PyDataset` class should call `super().__init__(**kwargs)` in its constructor. `**kwargs` can include `workers`, `use_multiprocessing`, `max_queue_size`. Do not pass these arguments to `fit()`, as they will be ignored.\n",
      "  self._warn_if_super_not_called()\n"
     ]
    },
    {
     "name": "stdout",
     "output_type": "stream",
     "text": [
      "\u001b[1m72/72\u001b[0m \u001b[32m━━━━━━━━━━━━━━━━━━━━\u001b[0m\u001b[37m\u001b[0m \u001b[1m1493s\u001b[0m 21s/step - accuracy: 0.3967 - loss: 1.0883 - val_accuracy: 0.3913 - val_loss: 1.0730 - learning_rate: 0.0010\n",
      "Epoch 2/10\n",
      "\u001b[1m72/72\u001b[0m \u001b[32m━━━━━━━━━━━━━━━━━━━━\u001b[0m\u001b[37m\u001b[0m \u001b[1m1544s\u001b[0m 21s/step - accuracy: 0.4260 - loss: 1.0561 - val_accuracy: 0.5652 - val_loss: 0.9586 - learning_rate: 0.0010\n",
      "Epoch 3/10\n",
      "\u001b[1m72/72\u001b[0m \u001b[32m━━━━━━━━━━━━━━━━━━━━\u001b[0m\u001b[37m\u001b[0m \u001b[1m1490s\u001b[0m 21s/step - accuracy: 0.5786 - loss: 0.8975 - val_accuracy: 0.6285 - val_loss: 0.7434 - learning_rate: 0.0010\n",
      "Epoch 4/10\n",
      "\u001b[1m72/72\u001b[0m \u001b[32m━━━━━━━━━━━━━━━━━━━━\u001b[0m\u001b[37m\u001b[0m \u001b[1m1469s\u001b[0m 20s/step - accuracy: 0.6598 - loss: 0.7122 - val_accuracy: 0.6601 - val_loss: 0.6410 - learning_rate: 0.0010\n",
      "Epoch 5/10\n",
      "\u001b[1m72/72\u001b[0m \u001b[32m━━━━━━━━━━━━━━━━━━━━\u001b[0m\u001b[37m\u001b[0m \u001b[1m1476s\u001b[0m 20s/step - accuracy: 0.7363 - loss: 0.5986 - val_accuracy: 0.7352 - val_loss: 0.5645 - learning_rate: 0.0010\n",
      "Epoch 6/10\n",
      "\u001b[1m72/72\u001b[0m \u001b[32m━━━━━━━━━━━━━━━━━━━━\u001b[0m\u001b[37m\u001b[0m \u001b[1m1465s\u001b[0m 20s/step - accuracy: 0.8037 - loss: 0.4898 - val_accuracy: 0.8103 - val_loss: 0.4406 - learning_rate: 0.0010\n",
      "Epoch 7/10\n",
      "\u001b[1m72/72\u001b[0m \u001b[32m━━━━━━━━━━━━━━━━━━━━\u001b[0m\u001b[37m\u001b[0m \u001b[1m1467s\u001b[0m 20s/step - accuracy: 0.8530 - loss: 0.3987 - val_accuracy: 0.8142 - val_loss: 0.4167 - learning_rate: 0.0010\n",
      "Epoch 8/10\n",
      "\u001b[1m72/72\u001b[0m \u001b[32m━━━━━━━━━━━━━━━━━━━━\u001b[0m\u001b[37m\u001b[0m \u001b[1m1467s\u001b[0m 20s/step - accuracy: 0.8591 - loss: 0.3687 - val_accuracy: 0.8617 - val_loss: 0.3295 - learning_rate: 0.0010\n",
      "Epoch 9/10\n",
      "\u001b[1m72/72\u001b[0m \u001b[32m━━━━━━━━━━━━━━━━━━━━\u001b[0m\u001b[37m\u001b[0m \u001b[1m1467s\u001b[0m 20s/step - accuracy: 0.9035 - loss: 0.2909 - val_accuracy: 0.8538 - val_loss: 0.2880 - learning_rate: 0.0010\n",
      "Epoch 10/10\n",
      "\u001b[1m72/72\u001b[0m \u001b[32m━━━━━━━━━━━━━━━━━━━━\u001b[0m\u001b[37m\u001b[0m \u001b[1m1464s\u001b[0m 20s/step - accuracy: 0.9206 - loss: 0.2433 - val_accuracy: 0.9407 - val_loss: 0.2230 - learning_rate: 0.0010\n"
     ]
    }
   ],
   "source": [
    "callbacks = [\n",
    "\n",
    "    tf.keras.callbacks.EarlyStopping(patience=3, monitor='val_loss', verbose=1),\n",
    "    tf.keras.callbacks.ReduceLROnPlateau(monitor='val_loss', factor=0.5, patience=2, verbose=1)\n",
    "]\n",
    "history= VGG_model_multi.fit(multiclass_train,\n",
    "                     validation_data=multiclass_val,\n",
    "                     epochs=10,\n",
    "                     callbacks=[callbacks])"
   ]
  },
  {
   "cell_type": "code",
   "execution_count": 32,
   "metadata": {
    "execution": {
     "iopub.execute_input": "2025-01-20T09:20:03.055119Z",
     "iopub.status.busy": "2025-01-20T09:20:03.054401Z",
     "iopub.status.idle": "2025-01-20T09:20:03.719549Z",
     "shell.execute_reply": "2025-01-20T09:20:03.718078Z",
     "shell.execute_reply.started": "2025-01-20T09:20:03.055060Z"
    },
    "trusted": true
   },
   "outputs": [
    {
     "data": {
      "text/plain": [
       "<matplotlib.legend.Legend at 0x7f2368f1e980>"
      ]
     },
     "execution_count": 32,
     "metadata": {},
     "output_type": "execute_result"
    },
    {
     "data": {
      "image/png": "[encoded data removed]",
      "text/plain": [
       "<Figure size 640x480 with 2 Axes>"
      ]
     },
     "metadata": {},
     "output_type": "display_data"
    }
   ],
   "source": [
    "plt.subplot(1,2,1)\n",
    "plt.plot(history.history['accuracy'], color='red',label='Train')\n",
    "plt.plot(history.history['val_accuracy'], color='blue',label='Validation')\n",
    "plt.title(\"Training & Validation Accuracy\")\n",
    "plt.legend()\n",
    "\n",
    "plt.subplot(1,2,2)\n",
    "plt.plot(history.history['loss'], color='red',label='Train')\n",
    "plt.plot(history.history['val_loss'], color='blue',label='Validation')\n",
    "plt.title(\"Training and Validation Loss\")\n",
    "plt.legend()\n"
   ]
  },
  {
   "cell_type": "code",
   "execution_count": 37,
   "metadata": {
    "execution": {
     "iopub.execute_input": "2025-01-20T09:21:22.918858Z",
     "iopub.status.busy": "2025-01-20T09:21:22.918474Z",
     "iopub.status.idle": "2025-01-20T09:22:41.169378Z",
     "shell.execute_reply": "2025-01-20T09:22:41.167843Z",
     "shell.execute_reply.started": "2025-01-20T09:21:22.918814Z"
    },
    "trusted": true
   },
   "outputs": [
    {
     "name": "stdout",
     "output_type": "stream",
     "text": [
      "\u001b[1m4/4\u001b[0m \u001b[32m━━━━━━━━━━━━━━━━━━━━\u001b[0m\u001b[37m\u001b[0m \u001b[1m77s\u001b[0m 19s/step\n"
     ]
    }
   ],
   "source": [
    "y_pred_probs = VGG_model_multi.predict(multiclass_test) \n",
    "y_pred = y_pred_probs.argmax(axis=1)\n",
    "y_true = multiclass_test.classes "
   ]
  },
  {
   "cell_type": "code",
   "execution_count": 39,
   "metadata": {
    "execution": {
     "iopub.execute_input": "2025-01-20T09:22:41.185361Z",
     "iopub.status.busy": "2025-01-20T09:22:41.184920Z",
     "iopub.status.idle": "2025-01-20T09:22:41.209775Z",
     "shell.execute_reply": "2025-01-20T09:22:41.208128Z",
     "shell.execute_reply.started": "2025-01-20T09:22:41.185326Z"
    },
    "trusted": true
   },
   "outputs": [
    {
     "data": {
      "text/html": [
       "<div>\n",
       "<style scoped>\n",
       "    .dataframe tbody tr th:only-of-type {\n",
       "        vertical-align: middle;\n",
       "    }\n",
       "\n",
       "    .dataframe tbody tr th {\n",
       "        vertical-align: top;\n",
       "    }\n",
       "\n",
       "    .dataframe thead th {\n",
       "        text-align: right;\n",
       "    }\n",
       "</style>\n",
       "<table border=\"1\" class=\"dataframe\">\n",
       "  <thead>\n",
       "    <tr style=\"text-align: right;\">\n",
       "      <th></th>\n",
       "      <th>True_Label</th>\n",
       "      <th>Predicted_Label</th>\n",
       "    </tr>\n",
       "  </thead>\n",
       "  <tbody>\n",
       "    <tr>\n",
       "      <th>0</th>\n",
       "      <td>2</td>\n",
       "      <td>2</td>\n",
       "    </tr>\n",
       "    <tr>\n",
       "      <th>1</th>\n",
       "      <td>0</td>\n",
       "      <td>1</td>\n",
       "    </tr>\n",
       "    <tr>\n",
       "      <th>2</th>\n",
       "      <td>2</td>\n",
       "      <td>2</td>\n",
       "    </tr>\n",
       "    <tr>\n",
       "      <th>3</th>\n",
       "      <td>0</td>\n",
       "      <td>0</td>\n",
       "    </tr>\n",
       "    <tr>\n",
       "      <th>4</th>\n",
       "      <td>1</td>\n",
       "      <td>1</td>\n",
       "    </tr>\n",
       "  </tbody>\n",
       "</table>\n",
       "</div>"
      ],
      "text/plain": [
       "   True_Label  Predicted_Label\n",
       "0           2                2\n",
       "1           0                1\n",
       "2           2                2\n",
       "3           0                0\n",
       "4           1                1"
      ]
     },
     "execution_count": 39,
     "metadata": {},
     "output_type": "execute_result"
    }
   ],
   "source": [
    "results_df = pd.DataFrame({\n",
    "    'True_Label': y_true,\n",
    "    'Predicted_Label': y_pred\n",
    "})\n",
    "results_df.head()"
   ]
  },
  {
   "cell_type": "code",
   "execution_count": 40,
   "metadata": {
    "execution": {
     "iopub.execute_input": "2025-01-20T09:22:51.987430Z",
     "iopub.status.busy": "2025-01-20T09:22:51.986985Z",
     "iopub.status.idle": "2025-01-20T09:22:52.006057Z",
     "shell.execute_reply": "2025-01-20T09:22:52.004817Z",
     "shell.execute_reply.started": "2025-01-20T09:22:51.987393Z"
    },
    "trusted": true
   },
   "outputs": [
    {
     "name": "stdout",
     "output_type": "stream",
     "text": [
      "              precision    recall  f1-score   support\n",
      "\n",
      "           0       0.97      0.88      0.93        86\n",
      "           1       0.87      0.97      0.92        69\n",
      "           2       1.00      1.00      1.00        99\n",
      "\n",
      "    accuracy                           0.95       254\n",
      "   macro avg       0.95      0.95      0.95       254\n",
      "weighted avg       0.96      0.95      0.95       254\n",
      "\n"
     ]
    }
   ],
   "source": [
    "print(classification_report(y_true, y_pred))"
   ]
  },
  {
   "cell_type": "code",
   "execution_count": 41,
   "metadata": {
    "execution": {
     "iopub.execute_input": "2025-01-20T09:22:55.207275Z",
     "iopub.status.busy": "2025-01-20T09:22:55.206916Z",
     "iopub.status.idle": "2025-01-20T09:22:55.468990Z",
     "shell.execute_reply": "2025-01-20T09:22:55.467423Z",
     "shell.execute_reply.started": "2025-01-20T09:22:55.207246Z"
    },
    "trusted": true
   },
   "outputs": [
    {
     "data": {
      "image/png": "[encoded data removed]",
      "text/plain": [
       "<Figure size 640x480 with 2 Axes>"
      ]
     },
     "metadata": {},
     "output_type": "display_data"
    }
   ],
   "source": [
    "cm = confusion_matrix(y_true, y_pred)\n",
    "classes = [\"Cyst\", \"Stone\", \"Tumor\"]\n",
    "sns.heatmap(cm, annot=True, fmt='d', xticklabels=classes, yticklabels=classes)\n",
    "plt.title('Confusion Matrix')\n",
    "plt.xlabel('Predicted')\n",
    "plt.ylabel('True')\n",
    "plt.show()"
   ]
  },
  {
   "cell_type": "markdown",
   "metadata": {},
   "source": [
    "# OBSERVATIONS:\n",
    "* Data consists of file_path along with the lables columns\n",
    "* In the first model we convert the multi class labels column to binary class\n",
    "  labels columns and constructed a CNN model with 4 convolution layers\n",
    "* We get 97% Accuracy from the binary model\n",
    "* In the second model we take the VGG16 model for multi class classification\n",
    "  and we get 93% Accuracy "
   ]
  }
 ],
 "metadata": {
  "kaggle": {
   "accelerator": "none",
   "dataSources": [
    {
     "datasetId": 1686903,
     "sourceId": 2764486,
     "sourceType": "datasetVersion"
    }
   ],
   "dockerImageVersionId": 30839,
   "isGpuEnabled": false,
   "isInternetEnabled": false,
   "language": "python",
   "sourceType": "notebook"
  },
  "kernelspec": {
   "display_name": "Python 3",
   "language": "python",
   "name": "python3"
  },
  "language_info": {
   "codemirror_mode": {
    "name": "ipython",
    "version": 3
   },
   "file_extension": ".py",
   "mimetype": "text/x-python",
   "name": "python",
   "nbconvert_exporter": "python",
   "pygments_lexer": "ipython3",
   "version": "3.10.12"
  }
 },
 "nbformat": 4,
 "nbformat_minor": 4
}
